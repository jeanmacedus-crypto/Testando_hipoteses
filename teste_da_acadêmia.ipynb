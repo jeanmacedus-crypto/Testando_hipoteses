{
  "nbformat": 4,
  "nbformat_minor": 0,
  "metadata": {
    "colab": {
      "provenance": [],
      "authorship_tag": "ABX9TyN25D0AaLFDZXjy+7Hm2R2N",
      "include_colab_link": true
    },
    "kernelspec": {
      "name": "python3",
      "display_name": "Python 3"
    },
    "language_info": {
      "name": "python"
    }
  },
  "cells": [
    {
      "cell_type": "markdown",
      "metadata": {
        "id": "view-in-github",
        "colab_type": "text"
      },
      "source": [
        "<a href=\"https://colab.research.google.com/github/jeanmacedus-crypto/Testando_hipoteses/blob/main/teste_da_acad%C3%AAmia.ipynb\" target=\"_parent\"><img src=\"https://colab.research.google.com/assets/colab-badge.svg\" alt=\"Open In Colab\"/></a>"
      ]
    },
    {
      "cell_type": "markdown",
      "source": [
        "treino A versus treino B. O que precisamos analisar?\n",
        "\n",
        "A academia vende dois planos de treino, o A e o B,\n",
        "\n",
        "e quer entender se há diferença significativa nos ganhos de desempenho de força entre quem pratica os dois tipos."
      ],
      "metadata": {
        "id": "jWfQqNrFVWw4"
      }
    },
    {
      "cell_type": "code",
      "execution_count": 1,
      "metadata": {
        "id": "lCN2xU01VQ0g"
      },
      "outputs": [],
      "source": [
        "# Dados de desempenho dos dois grupos\n",
        "treino_a = [5, 3, 8, 4, 6]\n",
        "treino_b = [4, 2, 7, 5, 3]"
      ]
    },
    {
      "cell_type": "markdown",
      "source": [
        "Trata-se de valores independentes\n",
        "\n",
        "amostra muito pequena\n",
        "\n"
      ],
      "metadata": {
        "id": "_-7T4UQ7WVtZ"
      }
    },
    {
      "cell_type": "code",
      "source": [
        "# carregando bibliotecas\n",
        "import numpy as np\n",
        "import pandas as pd\n",
        "import matplotlib.pyplot as plt"
      ],
      "metadata": {
        "id": "qJ5aOfCjVpvU"
      },
      "execution_count": 3,
      "outputs": []
    },
    {
      "cell_type": "code",
      "source": [
        "# Importando teste mannwhitneyu\n",
        "from scipy.stats import mannwhitneyu"
      ],
      "metadata": {
        "id": "qgnzvFR9Vx5h"
      },
      "execution_count": 4,
      "outputs": []
    },
    {
      "cell_type": "markdown",
      "source": [
        "H0 : As distribuições das duas populações são iguais\n",
        "\n",
        "H1 : As distribuições das duas populações dão diferentes"
      ],
      "metadata": {
        "id": "uB2n2PT8Xnwb"
      }
    },
    {
      "cell_type": "code",
      "source": [
        "# Aplicando o teste de Mann-Whitney\n",
        "\n",
        "stats , p_valor = mannwhitneyu (treino_a, treino_b, alternative = \"two-sided\")"
      ],
      "metadata": {
        "id": "MHbo4-BMWuY6"
      },
      "execution_count": 6,
      "outputs": []
    },
    {
      "cell_type": "code",
      "source": [
        "print(p_valor)"
      ],
      "metadata": {
        "colab": {
          "base_uri": "https://localhost:8080/"
        },
        "id": "fbOoLyupXds3",
        "outputId": "b02fa599-4865-41ba-d4bb-701ad9976223"
      },
      "execution_count": 7,
      "outputs": [
        {
          "output_type": "stream",
          "name": "stdout",
          "text": [
            "0.4605966187047713\n"
          ]
        }
      ]
    },
    {
      "cell_type": "markdown",
      "source": [
        "O H0 afirma que as populações são iguais, portanto, decidimos que, na verdade, não há diferença significativa no ganho de força entre os dois treinos, uma vez que o p-valor é igual a 0.46."
      ],
      "metadata": {
        "id": "3Ck0yH-pYrGE"
      }
    },
    {
      "cell_type": "markdown",
      "source": [
        "**Eles fizeram uma alteração na disposição dos equipamentos e querem comparar se o layout anterior era preferível pelos clientes do que o novo.**\n",
        "\n",
        "**A hipótese que testaremos é:**\n",
        "\n",
        "**Não há uma diferença significativa nas preferências antes e depois da mudança da disposição dos equipamentos na academia.**"
      ],
      "metadata": {
        "id": "oqTi2NSoainr"
      }
    },
    {
      "cell_type": "code",
      "source": [
        "# Preferências dos consumidores antes e depois da mudança no layout\n",
        "preferencias_antes = [4, 2, 5, 2, 5, 6, 7, 8, 9, 10 ]\n",
        "preferencias_depois = [8, 5, 3, 5, 8, 9, 9, 9, 10, 9]"
      ],
      "metadata": {
        "id": "ykpwqKIya1iq"
      },
      "execution_count": 10,
      "outputs": []
    },
    {
      "cell_type": "code",
      "source": [
        "#diferenças de percepção\n",
        "resultado_subtracao = [b - a for a, b in zip(preferencias_antes,preferencias_depois)]"
      ],
      "metadata": {
        "id": "fb6QuCzca7ar"
      },
      "execution_count": 11,
      "outputs": []
    },
    {
      "cell_type": "code",
      "source": [
        "resultado_subtracao"
      ],
      "metadata": {
        "colab": {
          "base_uri": "https://localhost:8080/"
        },
        "id": "YeBJ5WbRbBgs",
        "outputId": "0ab269e0-1b9c-459f-aecf-46cdedc238d5"
      },
      "execution_count": 12,
      "outputs": [
        {
          "output_type": "execute_result",
          "data": {
            "text/plain": [
              "[4, 3, -2, 3, 3, 3, 2, 1, 1, -1]"
            ]
          },
          "metadata": {},
          "execution_count": 12
        }
      ]
    },
    {
      "cell_type": "code",
      "source": [
        "# Média e Mediana\n",
        "\n",
        "np.mean(resultado_subtracao)"
      ],
      "metadata": {
        "colab": {
          "base_uri": "https://localhost:8080/"
        },
        "id": "7wvyGXNAbFAT",
        "outputId": "ac723a38-964e-427b-d6b4-3b7d50288c7d"
      },
      "execution_count": 15,
      "outputs": [
        {
          "output_type": "execute_result",
          "data": {
            "text/plain": [
              "np.float64(1.7)"
            ]
          },
          "metadata": {},
          "execution_count": 15
        }
      ]
    },
    {
      "cell_type": "code",
      "source": [
        "np.median(resultado_subtracao)"
      ],
      "metadata": {
        "colab": {
          "base_uri": "https://localhost:8080/"
        },
        "id": "E26h2-ywbdcP",
        "outputId": "98c22b69-3d31-4f83-ed15-2ac3f7724ce6"
      },
      "execution_count": 16,
      "outputs": [
        {
          "output_type": "execute_result",
          "data": {
            "text/plain": [
              "np.float64(2.5)"
            ]
          },
          "metadata": {},
          "execution_count": 16
        }
      ]
    },
    {
      "cell_type": "markdown",
      "source": [
        "Hipóteses\n",
        "\n",
        "H0 : A mediana das diferenças entre os pares é zero\n",
        "\n",
        "H1 : A mediana das diferenças entre os pares não é zero"
      ],
      "metadata": {
        "id": "LjqU9_Bcb_Mj"
      }
    },
    {
      "cell_type": "code",
      "source": [
        "from scipy.stats import wilcoxon"
      ],
      "metadata": {
        "id": "UZQ2tpXxbkvv"
      },
      "execution_count": 17,
      "outputs": []
    },
    {
      "cell_type": "code",
      "source": [
        "stats, p_valor = wilcoxon(preferencias_depois, preferencias_antes, alternative=\"greater\")"
      ],
      "metadata": {
        "id": "KRscj_t_btuY"
      },
      "execution_count": 18,
      "outputs": []
    },
    {
      "cell_type": "code",
      "source": [
        "print(p_valor)"
      ],
      "metadata": {
        "colab": {
          "base_uri": "https://localhost:8080/"
        },
        "id": "QzrDow1pbzhc",
        "outputId": "32e151e0-50ca-4e13-b955-4a86c9700116"
      },
      "execution_count": 19,
      "outputs": [
        {
          "output_type": "stream",
          "name": "stdout",
          "text": [
            "0.015625\n"
          ]
        }
      ]
    },
    {
      "cell_type": "code",
      "source": [
        "nivel_significancia=0.05\n",
        "\n",
        "if p_valor < nivel_significancia:\n",
        "    conclusao = \"Rejeitar a hipótese nula\"\n",
        "else:\n",
        "    conclusao = \"Não rejeita a hipótese nula\"\n",
        "conclusao"
      ],
      "metadata": {
        "colab": {
          "base_uri": "https://localhost:8080/",
          "height": 35
        },
        "id": "cy7mWTBrchf-",
        "outputId": "d48e3f41-b9c1-4350-e60b-46935a5c48ef"
      },
      "execution_count": 20,
      "outputs": [
        {
          "output_type": "execute_result",
          "data": {
            "text/plain": [
              "'Rejeitar a hipótese nula'"
            ],
            "application/vnd.google.colaboratory.intrinsic+json": {
              "type": "string"
            }
          },
          "metadata": {},
          "execution_count": 20
        }
      ]
    },
    {
      "cell_type": "markdown",
      "source": [
        "podemos informar a academia que esse novo layout trouxe maior satisfação para as pessoas clientes."
      ],
      "metadata": {
        "id": "JrjWOdOAct_t"
      }
    },
    {
      "cell_type": "markdown",
      "source": [
        "# Na coleta de dados para avaliar a associação entre o desempenho acadêmico e o método de ensino obtemos um conjunto de dados com 50 valores, os cinco primeiros podem ser observados abaixo:"
      ],
      "metadata": {
        "id": "2EB-wbR_ZZpT"
      }
    },
    {
      "cell_type": "markdown",
      "source": [
        "![image.png](data:image/png;base64,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)"
      ],
      "metadata": {
        "id": "6WV2l24YZgdc"
      }
    },
    {
      "cell_type": "markdown",
      "source": [
        "**Formulando hipótese**\n",
        "\n",
        "H0: o desempenho acadêmico e o método de ensino são independentes.\n",
        "\n",
        "H1: o desempenho acadêmico e o método de ensino não são independentes.\n"
      ],
      "metadata": {
        "id": "S-oB7QUkZlTv"
      }
    },
    {
      "cell_type": "markdown",
      "source": [
        "# construção da tabela de contingência"
      ],
      "metadata": {
        "id": "LwcY8PN-Zszi"
      }
    },
    {
      "cell_type": "code",
      "source": [
        "# Dados do exemplo\n",
        "df = pd.DataFrame({'Desempenho': {0: 'Regular', 1: 'Bom', 2: 'Bom', 3: 'Excelente', 4: 'Bom', 5: 'Bom', 6: 'Regular', 7: 'Regular', 8: 'Excelente', 9: 'Ruim', 10: 'Bom', 11: 'Regular', 12: 'Muito Bom', 13: 'Bom', 14: 'Bom', 15: 'Regular', 16: 'Muito Bom', 17: 'Bom', 18: 'Muito Bom', 19: 'Excelente', 20: 'Ruim', 21: 'Excelente', 22: 'Ruim', 23: 'Ruim', 24: 'Regular', 25: 'Excelente', 26: 'Ruim', 27: 'Excelente', 28: 'Excelente', 29: 'Regular', 30: 'Regular', 31: 'Ruim', 32: 'Regular', 33: 'Regular', 34: 'Muito Bom', 35: 'Excelente', 36: 'Regular', 37: 'Excelente', 38: 'Excelente', 39: 'Muito Bom', 40: 'Ruim', 41: 'Ruim', 42: 'Ruim', 43: 'Ruim', 44: 'Muito Bom', 45: 'Regular', 46: 'Excelente', 47: 'Muito Bom', 48: 'Muito Bom', 49: 'Muito Bom', 50: 'Muito Bom', 51: 'Muito Bom', 52: 'Bom', 53: 'Ruim', 54: 'Muito Bom', 55: 'Bom', 56: 'Bom', 57: 'Excelente', 58: 'Bom', 59: 'Muito Bom'},\n",
        "                   'Metodo_Ensino': {0: 'Moderno', 1: 'Tradicional', 2: 'Tradicional', 3: 'Moderno', 4: 'Moderno', 5: 'Moderno', 6: 'Moderno', 7: 'Moderno', 8: 'Moderno', 9: 'Tradicional', 10: 'Tradicional', 11: 'Moderno', 12: 'Tradicional', 13: 'Moderno', 14: 'Tradicional', 15: 'Tradicional', 16: 'Moderno', 17: 'Moderno', 18: 'Tradicional', 19: 'Tradicional', 20: 'Moderno', 21: 'Tradicional', 22: 'Moderno', 23: 'Moderno', 24: 'Tradicional', 25: 'Tradicional', 26: 'Moderno', 27: 'Moderno', 28: 'Moderno', 29: 'Moderno', 30: 'Moderno', 31: 'Moderno', 32: 'Tradicional', 33: 'Moderno', 34: 'Tradicional', 35: 'Tradicional', 36: 'Tradicional', 37: 'Moderno', 38: 'Tradicional', 39: 'Moderno', 40: 'Tradicional', 41: 'Moderno', 42: 'Tradicional', 43: 'Moderno', 44: 'Moderno', 45: 'Moderno', 46: 'Moderno', 47: 'Moderno', 48: 'Moderno', 49: 'Tradicional', 50: 'Moderno', 51: 'Moderno', 52: 'Moderno', 53: 'Moderno', 54: 'Tradicional', 55: 'Moderno', 56: 'Moderno', 57: 'Tradicional', 58: 'Moderno', 59: 'Tradicional'}})\n",
        "\n",
        "# Tabela de contingência\n",
        "tab_contingencia = pd.crosstab(df['Desempenho'], df['Metodo_Ensino'])"
      ],
      "metadata": {
        "id": "ZfpuutimYetN"
      },
      "execution_count": 8,
      "outputs": []
    },
    {
      "cell_type": "code",
      "source": [
        "from scipy.stats import chi2_contingency\n",
        "\n",
        "chi2, p_valor, _, _ = chi2_contingency(tab_contingencia)\n",
        "\n",
        "# Resultados iniciais\n",
        "print(f'Estatística chi2: {chi2}')\n",
        "print(f'p-valor: {p_valor}')\n",
        "\n",
        "# Tomada de decisão\n",
        "nivel_significancia = 0.05\n",
        "if p_valor < nivel_significancia:\n",
        "    conclusao = 'Rejeitar a hipótese nula'\n",
        "else:\n",
        "    conclusao = 'Não rejeitar a hipótese nula'\n",
        "\n",
        "print('Conclusão:', conclusao)"
      ],
      "metadata": {
        "colab": {
          "base_uri": "https://localhost:8080/"
        },
        "id": "6Q9H9jLtZ7IN",
        "outputId": "346f608e-990d-4631-d494-d8c0c9025963"
      },
      "execution_count": 9,
      "outputs": [
        {
          "output_type": "stream",
          "name": "stdout",
          "text": [
            "Estatística chi2: 1.850394024307068\n",
            "p-valor: 0.7632507187470916\n",
            "Conclusão: Não rejeitar a hipótese nula\n"
          ]
        }
      ]
    },
    {
      "cell_type": "markdown",
      "source": [
        "Ao não rejeitar a hipótese nula, entendemos que as variáveis de desempenho acadêmico e o método de ensino são independentes, ou seja, não há uma associação significativa entre elas."
      ],
      "metadata": {
        "id": "AJyN1ODqaMk-"
      }
    },
    {
      "cell_type": "markdown",
      "source": [],
      "metadata": {
        "id": "XmXm1hMIagpB"
      }
    },
    {
      "cell_type": "code",
      "source": [],
      "metadata": {
        "id": "RcMERg6iZ-tm"
      },
      "execution_count": null,
      "outputs": []
    }
  ]
}