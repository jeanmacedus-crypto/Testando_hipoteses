{
  "nbformat": 4,
  "nbformat_minor": 0,
  "metadata": {
    "colab": {
      "provenance": [],
      "authorship_tag": "ABX9TyN/riqlVCt24hA5AjhApzDx",
      "include_colab_link": true
    },
    "kernelspec": {
      "name": "python3",
      "display_name": "Python 3"
    },
    "language_info": {
      "name": "python"
    }
  },
  "cells": [
    {
      "cell_type": "markdown",
      "metadata": {
        "id": "view-in-github",
        "colab_type": "text"
      },
      "source": [
        "<a href=\"https://colab.research.google.com/github/jeanmacedus-crypto/Testando_hipoteses/blob/main/Caso_Zoop_Megastore_2.ipynb\" target=\"_parent\"><img src=\"https://colab.research.google.com/assets/colab-badge.svg\" alt=\"Open In Colab\"/></a>"
      ]
    },
    {
      "cell_type": "markdown",
      "source": [
        "A Zoop gostaria de realizar um estudo sobre a satisfação do cliente em duas filiais diferentes que abriram recentemente. O objetivo é determinar se há uma diferença significativa na pontuação média de satisfação do cliente entre as filiais.\n",
        "\n",
        "Os dados coletados das pontuações médias de satisfação do cliente estão disponíveis abaixo:"
      ],
      "metadata": {
        "id": "wmDX9fg54jaH"
      }
    },
    {
      "cell_type": "markdown",
      "source": [
        "# Os dados coletados das pontuações médias de satisfação do cliente estão disponíveis abaixo:"
      ],
      "metadata": {
        "id": "OzAV86lf5Yfj"
      }
    },
    {
      "cell_type": "code",
      "source": [
        "import pandas as pd\n",
        "\n",
        "df_filiais = pd.DataFrame({'Filial Centro-Norte': [3.2, 2.9, 2.0, 3.3, 3.1],\n",
        "                           'Filial Sul': [3.8, 4.0, 4.7, 4.9, 4.8]})"
      ],
      "metadata": {
        "id": "OQnGbVbK4rfH"
      },
      "execution_count": 1,
      "outputs": []
    },
    {
      "cell_type": "markdown",
      "source": [
        "Buscando entender se há uma diferença estatisticamente significativa nas pontuações de satisfação entre as duas filiais e, assim, tomar decisões, a equipe de analistas ordenou algumas etapas a se seguir:\n",
        "\n",
        "1 - Defina a natureza das amostras. Temos um caso de amostra independente ou pareada?\n",
        "\n",
        "2 - Formule uma hipótese para o segundo caso da Zoop Megastore.\n",
        "\n",
        "3 - Aplique um teste paramétrico para tomar a decisão da hipótese.\n",
        "\n",
        "4 - Pelos resultados anteriores, a hipótese nula formulada é rejeitada ou não rejeitada? Explique o que justifica sua decisão."
      ],
      "metadata": {
        "id": "LdBpOVhD5ey1"
      }
    },
    {
      "cell_type": "markdown",
      "source": [
        "# 1 - Defina a natureza das amostras. Temos um caso de amostra independente ou pareada?\n",
        "\n",
        "a equipe indentificou como Independente"
      ],
      "metadata": {
        "id": "mt84CIV45vzc"
      }
    },
    {
      "cell_type": "markdown",
      "source": [
        "# 2 - Formule uma hipótese para o segundo caso da Zoop Megastore.\n",
        "\n",
        "Hipóteses desse teste de amostras independentes:\n",
        "\n",
        "H0: (média da filial Centro-Norte) = (média da filial Sul)\n",
        "H1: (média da filial Centro-Norte) != (média da filial Sul)"
      ],
      "metadata": {
        "id": "DMrsvSxs5-cP"
      }
    },
    {
      "cell_type": "markdown",
      "source": [
        "# 3 - Aplique um teste paramétrico para tomar a decisão da hipótese."
      ],
      "metadata": {
        "id": "A2NtJarw6lH_"
      }
    },
    {
      "cell_type": "code",
      "source": [
        "from scipy.stats import ttest_ind"
      ],
      "metadata": {
        "id": "WJ_BqCzU5p71"
      },
      "execution_count": 7,
      "outputs": []
    },
    {
      "cell_type": "code",
      "source": [
        "stats, p_valor = ttest_ind (df_filiais['Filial Centro-Norte'], df_filiais['Filial Sul'])\n",
        "\n",
        "print(f'Estatística do teste t independente: {stats}')\n",
        "print(f'Valor-p: {p_valor}')"
      ],
      "metadata": {
        "colab": {
          "base_uri": "https://localhost:8080/"
        },
        "id": "qsJNslIK784N",
        "outputId": "4615f1ce-926d-4e7a-bf88-a6222aa7f731"
      },
      "execution_count": 8,
      "outputs": [
        {
          "output_type": "stream",
          "name": "stdout",
          "text": [
            "Estatística do teste t independente: -4.73902240270431\n",
            "Valor-p: 0.001465798816319686\n"
          ]
        }
      ]
    },
    {
      "cell_type": "markdown",
      "source": [
        "# 4 - Pelos resultados anteriores, a hipótese nula formulada é rejeitada ou não rejeitada? Explique o que justifica sua decisão."
      ],
      "metadata": {
        "id": "NvWdbwm68TIC"
      }
    },
    {
      "cell_type": "code",
      "source": [
        "alpha = 0.05\n",
        "if p_valor < alpha:\n",
        "    print(\"Rejeitar a hipótese nula: Há uma diferença significativa na pontuação média de satisfação do cliente entre as filiais.\")\n",
        "else:\n",
        "    print(\"Não rejeita hipótese nula: Não há  diferença significativa na pontuação média de satisfação do cliente entre as filiais.\")"
      ],
      "metadata": {
        "colab": {
          "base_uri": "https://localhost:8080/"
        },
        "id": "jrUYuJSF8C8n",
        "outputId": "25936e51-adb7-42fa-ae85-eeab8306c0a6"
      },
      "execution_count": 9,
      "outputs": [
        {
          "output_type": "stream",
          "name": "stdout",
          "text": [
            "Rejeitar a hipótese nula: Há uma diferença significativa na pontuação média de satisfação do cliente entre as filiais.\n"
          ]
        }
      ]
    },
    {
      "cell_type": "code",
      "source": [],
      "metadata": {
        "id": "DEAwF5-P9Ok_"
      },
      "execution_count": null,
      "outputs": []
    }
  ]
}